{
 "cells": [
  {
   "cell_type": "markdown",
   "metadata": {
    "collapsed": true
   },
   "source": [
    "# Modeling a Persistent Plague: Malaria"
   ]
  },
  {
   "cell_type": "code",
   "execution_count": null,
   "metadata": {},
   "outputs": [],
   "source": [
    "## Analysis of Problem"
   ]
  },
  {
   "cell_type": "markdown",
   "metadata": {},
   "source": [
    "In the discussion that follows in this module, we consider the modeling process in- volving malaria (see Module 1.2, “The Modeling Process”). We begin by analyzing the situation to identify the problem and understand its primary questions. In this problem, we wish to investigate the progress of malaria. In particular, we"
   ]
  },
  {
   "cell_type": "markdown",
   "metadata": {},
   "source": [
    "## Formulating a Model: Make Simplifying Assumptions"
   ]
  },
  {
   "cell_type": "markdown",
   "metadata": {},
   "source": [
    "2. Because the life expectancy of a human is much greater than that of a mosquito,   we assume that the population of humans is closed with no births, no \n",
    "   immigration, and no deaths except from malaria. \n",
    "\n",
    "3. As soon as a vector(mosquito) bites a human, the individual becomes a host. \n",
    "\n",
    "4. No immunity exists for uninfected individuals, and no incubation period occurs.\n",
    "5. Some human hosts eventually become immune and others die, while still others re   cover and become susceptible again.  \n",
    "\n",
    "6. Deceased individuals pass from consideration in the model. \n",
    "\n",
    "7. Because of their relatively short life expectancy, we do consider mosquito \n",
    "   births and deaths. We have the assumption that the death rates for infected and   uninfected mosquitoes are identical. \n",
    "\n",
    "8. We assume that all mosquitoes reproduce at the same rate. \n",
    "\n",
    "9. At birth, a mosquito is uninfected. \n",
    "\n",
    "10.As a simplification for this first version of the model, we suppose that an in    fected mosquito immediately becomes a host that can infect humans."
   ]
  },
  {
   "cell_type": "markdown",
   "metadata": {},
   "source": [
    "## Formulating a Model: Determine Variables and Units"
   ]
  },
  {
   "cell_type": "markdown",
   "metadata": {},
   "source": [
    "Based on these simplifying assumptions, we monitor\n",
    "three categories of humans:\n",
    "\n",
    "1. uninfected_humans:  who are susceptible to the disease\n",
    "\n",
    "2. human_hosts: who have malaria and can infect mosquitoes\n",
    "   that bite them \n",
    "\n",
    "3. immune, who cannot get the disease again\n",
    "\n",
    "We have two categories of mosquitoes:\n",
    "\n",
    "1. uninfected_mosquitoes: which do not carry Plasmodium\n",
    "\n",
    "2. vectors: which carry Plasmodium\n",
    "\n",
    "We employ a day as the basic unit of time, t."
   ]
  },
  {
   "cell_type": "markdown",
   "metadata": {},
   "source": [
    "## Formulating a Model: Determine Equations and Functions"
   ]
  },
  {
   "cell_type": "markdown",
   "metadata": {},
   "source": [
    "Model Formulations: \n",
    "\n",
    "flow_to_immune = immunity_rate * human_hosts \n",
    "\n",
    "human_host_deaths = malaria_induced_death_rate * human_hosts \n",
    "\n",
    "recovered = recovery_rate * human_hosts \n",
    "\n",
    "mosquito_births = mosquito_birth_rate * mosquitoes, \n",
    "where mosquitoes = uninfected_mosquitoes + vectors \n",
    "\n",
    "uninfected_mosquito_deaths = mosquito_death_rate * uninfected_mosquitoes \n",
    "\n",
    "vector_deaths = mosquito_death_rate * vectors\n",
    "\n",
    "\n",
    "\n",
    "\n",
    "### Equations for Human Submodel: \n",
    "\n",
    "\n",
    "d(immune)/dt=immunity_rate * human_hosts \n",
    "\n",
    "d(deceased_humans)/dt=malaria_induced_death_rate * human_hosts \n",
    "\n",
    "rate of change from human_hosts to uninfected_humans:\n",
    "d(recovered)/dt=recovery_rate * human_hosts \n",
    "\n",
    "\n",
    "d(uninfected_humans)/dt = (recovery_rate)(human_hosts) – (transmission_constant)(uninfected_humans)\n",
    "\n",
    "transmission_constant : the probability that a human is bitten by a mosquito (prob_bit) and the probability that a mosquito is a vector (prob_vector).\n",
    "\n",
    "transmission_constant=(prob_bit)*(prob_vector)\n",
    "prob_vector = vectors/mosquitoes\n",
    "\n",
    "\n",
    "### Equations for Mosquito Submodel: \n",
    "\n",
    "d(deceased_vectors)/dt=mosquito_death_rate * vectors\n",
    "\n",
    "d(vector_formation)/dt =(prob_bite_human)(prob_host)(uninfected_mosquitoes)\n",
    "\n",
    "prob_host = human_hosts/humans = human_hosts/(uninfected_humans + human_hosts + immune)\n"
   ]
  },
  {
   "cell_type": "code",
   "execution_count": null,
   "metadata": {},
   "outputs": [],
   "source": []
  }
 ],
 "metadata": {
  "kernelspec": {
   "display_name": "Python 2",
   "language": "python",
   "name": "python2"
  },
  "language_info": {
   "codemirror_mode": {
    "name": "ipython",
    "version": 2
   },
   "file_extension": ".py",
   "mimetype": "text/x-python",
   "name": "python",
   "nbconvert_exporter": "python",
   "pygments_lexer": "ipython2",
   "version": "2.7.6"
  }
 },
 "nbformat": 4,
 "nbformat_minor": 0
}
